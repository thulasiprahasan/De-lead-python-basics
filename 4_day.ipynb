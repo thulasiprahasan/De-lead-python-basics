{
 "cells": [
  {
   "cell_type": "markdown",
   "metadata": {},
   "source": [
    "## Index\n",
    "- **Getting input from user**\n",
    "\n",
    "- **Conversion of one data type to another**   \n",
    "\n",
    "\n",
    "- **Getting 2 numbers from user and printing their sum**\n",
    "\n",
    "\n",
    "- **Activities**\n",
    "\n",
    "---"
   ]
  },
  {
   "cell_type": "markdown",
   "metadata": {},
   "source": [
    "### Example - Sum of two numbers"
   ]
  },
  {
   "cell_type": "code",
   "execution_count": null,
   "metadata": {},
   "outputs": [
    {
     "name": "stdout",
     "output_type": "stream",
     "text": [
      "30\n"
     ]
    }
   ],
   "source": [
    "a = 10\n",
    "b = 20\n",
    "print(a+b)"
   ]
  },
  {
   "cell_type": "markdown",
   "metadata": {},
   "source": [
    "```\n",
    "Here when we run the program, we already know what is the value of a and what is the value of b,\n",
    "But what if we want the user to enter the value of a and b, and print their sum.\n",
    "```"
   ]
  },
  {
   "cell_type": "markdown",
   "metadata": {},
   "source": [
    "\n",
    "![](images/input.gif)"
   ]
  },
  {
   "cell_type": "markdown",
   "metadata": {
    "slideshow": {
     "slide_type": "slide"
    }
   },
   "source": [
    "## Getting Input from user"
   ]
  },
  {
   "cell_type": "markdown",
   "metadata": {
    "slideshow": {
     "slide_type": "slide"
    }
   },
   "source": [
    "\n",
    "----\n",
    "### Syntax\n",
    "*for getting input from user*\n",
    "\n",
    "```\n",
    "input(\"Text to be seen by user\")\n",
    "```\n",
    "> When we do not want any message to be seen by the user\n",
    "```\n",
    "input()\n",
    "```\n",
    "---"
   ]
  },
  {
   "cell_type": "code",
   "execution_count": 1,
   "metadata": {
    "slideshow": {
     "slide_type": "slide"
    }
   },
   "outputs": [
    {
     "data": {
      "text/plain": [
       "'1234'"
      ]
     },
     "execution_count": 1,
     "metadata": {},
     "output_type": "execute_result"
    }
   ],
   "source": [
    "# Syntax for INPUT\n",
    "input(\"Text to be seen by user:\")"
   ]
  },
  {
   "cell_type": "markdown",
   "metadata": {},
   "source": [
    "What ever is written inside the brackets is seen by the user"
   ]
  },
  {
   "cell_type": "markdown",
   "metadata": {},
   "source": [
    "> TEACHER EXAMPLE <br>Moto : To show them that how to take a input from user"
   ]
  },
  {
   "cell_type": "code",
   "execution_count": null,
   "metadata": {},
   "outputs": [],
   "source": [
    "# Teachers Example\n",
    "# taking input and printing it\n",
    "print( input(\"Enter a number:\") )"
   ]
  },
  {
   "cell_type": "markdown",
   "metadata": {},
   "source": [
    "- *As we can see in the above example, whatever we write inside the input is shown in the output screen, it gives the user an idea of what has to be inputted inside the space*\n"
   ]
  },
  {
   "cell_type": "markdown",
   "metadata": {},
   "source": [
    "> **TEACHER EXAMPLE** <br>Moto : Change the content inside the input to show that changes inside changes the content shown to the user. \n",
    "\n",
    "- Here also explain to them that the value inputted by the user is stored in the input code, which is then assigned to the variable and then we are printing the variable"
   ]
  },
  {
   "cell_type": "code",
   "execution_count": 4,
   "metadata": {},
   "outputs": [
    {
     "name": "stdout",
     "output_type": "stream",
     "text": [
      "22\n"
     ]
    }
   ],
   "source": [
    "#taking input and assigning it to a variable\n",
    "a = input(\"Enter a even number:\")\n",
    "print(a)"
   ]
  },
  {
   "cell_type": "markdown",
   "metadata": {},
   "source": [
    "```\n",
    "a = 10\n",
    "print(a)\n",
    "```\n",
    "\n",
    "- Here we are giving the value to variable before running the program\n",
    "\n",
    "```\n",
    "a = input(\"Enter a even number:\")\n",
    "print(a)\n",
    "```\n",
    "- In this case we are getting the value of a from the user\n"
   ]
  },
  {
   "cell_type": "code",
   "execution_count": null,
   "metadata": {},
   "outputs": [],
   "source": [
    "# Ask the user to enter the name of a country\n",
    "country_name = input(\"Enter the name of a country\")\n",
    "print(country_name)"
   ]
  },
  {
   "cell_type": "markdown",
   "metadata": {},
   "source": [
    "> DO IT NOW :: Student\n",
    "```\n",
    "1. Ask the user to enter their fav. subject\n",
    "2. Ask the user to enter their fav. movie\n",
    "print a line \n",
    "Then print the details\n",
    "hint : to print a line you can just some dashes `print(\"---------------\")`\n",
    "```\n"
   ]
  },
  {
   "cell_type": "markdown",
   "metadata": {
    "slideshow": {
     "slide_type": "slide"
    }
   },
   "source": [
    "<b><font color =red>DIN - Do It Now</b></font> <br>\n",
    "Ask the user to input their name and print the name of the user\n",
    "```\n",
    "Expected Output\n",
    "---------------\n",
    "Enter your name : Akash\n",
    "Akash\n",
    "```"
   ]
  },
  {
   "cell_type": "code",
   "execution_count": null,
   "metadata": {
    "slideshow": {
     "slide_type": "slide"
    }
   },
   "outputs": [],
   "source": [
    "# Taking input from user\n",
    "# user_input is a variable name\n"
   ]
  },
  {
   "cell_type": "code",
   "execution_count": null,
   "metadata": {},
   "outputs": [],
   "source": []
  },
  {
   "cell_type": "markdown",
   "metadata": {
    "slideshow": {
     "slide_type": "slide"
    }
   },
   "source": [
    "<b><font color =red>DIN - Do It Now</b></font> <br>\n",
    "Get the name of the student, school name and class.\n",
    "Print details in different lines\n",
    "```\n",
    "Expected Output\n",
    "---------------\n",
    "Enter the name of the student : Akash\n",
    "Enter the name of the school : GVHSS Nadakkavu\n",
    "Enter the class of the student : 10\n",
    "\n",
    "Akash\n",
    "GVHSS Nadakkavu\n",
    "10\n",
    "\n",
    "```"
   ]
  },
  {
   "cell_type": "code",
   "execution_count": null,
   "metadata": {},
   "outputs": [],
   "source": [
    "#Code is here!"
   ]
  },
  {
   "cell_type": "markdown",
   "metadata": {},
   "source": [
    "#### Let's See How To Print The Sum Of Two Numbers"
   ]
  },
  {
   "cell_type": "markdown",
   "metadata": {},
   "source": [
    "> Teachers Example\n",
    "\n",
    "Ask the students on how we generally print the sum of two numbers"
   ]
  },
  {
   "cell_type": "code",
   "execution_count": 2,
   "metadata": {},
   "outputs": [
    {
     "name": "stdout",
     "output_type": "stream",
     "text": [
      "30\n"
     ]
    }
   ],
   "source": [
    "# How we did earlier\n",
    "num_1 = 10\n",
    "bnum_2 = 20\n",
    "print(a+b)"
   ]
  },
  {
   "cell_type": "markdown",
   "metadata": {},
   "source": [
    "> Student Example Activity\n",
    "\n",
    "Let's now take the inputs for num_1 and num_2 from the user and add theses 2 and print them\n",
    "\n",
    "`5 min for students to try it out, if they find it difficult show them yourself`"
   ]
  },
  {
   "cell_type": "code",
   "execution_count": 3,
   "metadata": {},
   "outputs": [
    {
     "name": "stdout",
     "output_type": "stream",
     "text": [
      "122\n"
     ]
    }
   ],
   "source": [
    "num_1 = input(\"Enter a number:\") # getting first number from user\n",
    "num_2 = input(\"Enter a number:\") # getting second number from user\n",
    "print(num_1+num_2) "
   ]
  },
  {
   "cell_type": "markdown",
   "metadata": {},
   "source": [
    "```\n",
    "num_1 = input(\"Enter a number:\") # getting first number from user\n",
    "num_2 = input(\"Enter a number:\") # getting second number from user\n",
    "print(num_1+num_2)\n",
    "```\n",
    "> Think Students:: Here we are not getting the output that we desired, think on what is happening here, ask them to share their ideas on why this is happening "
   ]
  },
  {
   "cell_type": "markdown",
   "metadata": {},
   "source": [
    "#### Memory Brush\n",
    "\n",
    "Let's remember what happens when we use addition of different data types"
   ]
  },
  {
   "cell_type": "code",
   "execution_count": 10,
   "metadata": {},
   "outputs": [
    {
     "name": "stdout",
     "output_type": "stream",
     "text": [
      "55\n"
     ]
    }
   ],
   "source": [
    "# integers\n",
    "print(22 +33)"
   ]
  },
  {
   "cell_type": "code",
   "execution_count": 9,
   "metadata": {},
   "outputs": [
    {
     "name": "stdout",
     "output_type": "stream",
     "text": [
      "54.8\n"
     ]
    }
   ],
   "source": [
    "# floating values\n",
    "print(22.5 + 32.3)"
   ]
  },
  {
   "cell_type": "code",
   "execution_count": 15,
   "metadata": {},
   "outputs": [
    {
     "name": "stdout",
     "output_type": "stream",
     "text": [
      "3\n"
     ]
    }
   ],
   "source": [
    "# boolean\n",
    "print(True+True+True)"
   ]
  },
  {
   "cell_type": "code",
   "execution_count": 16,
   "metadata": {},
   "outputs": [
    {
     "name": "stdout",
     "output_type": "stream",
     "text": [
      "1\n"
     ]
    }
   ],
   "source": [
    "# boolean\n",
    "print(True + False)"
   ]
  },
  {
   "cell_type": "code",
   "execution_count": 12,
   "metadata": {},
   "outputs": [
    {
     "name": "stdout",
     "output_type": "stream",
     "text": [
      "akashkrishna\n"
     ]
    }
   ],
   "source": [
    "# strings \n",
    "print(\"akash\" + \"krishna\")"
   ]
  },
  {
   "cell_type": "code",
   "execution_count": 13,
   "metadata": {},
   "outputs": [
    {
     "name": "stdout",
     "output_type": "stream",
     "text": [
      "2233\n"
     ]
    }
   ],
   "source": [
    "# strings \n",
    "print(\"22\" + \"33\")"
   ]
  },
  {
   "cell_type": "markdown",
   "metadata": {},
   "source": [
    "> Check if the students are able to connect the above examples to why, we are getting the output wrong when we are taking input from the user"
   ]
  },
  {
   "cell_type": "markdown",
   "metadata": {},
   "source": [
    "#### Memory Brush\n",
    "- Ask them if they remember a code we learned earlier called `type`\n",
    "\n",
    "> *DIN :: Do It Now*\n",
    "- Ask the students to check the type of the input from the user"
   ]
  },
  {
   "cell_type": "markdown",
   "metadata": {},
   "source": [
    "### Type of data taking through input()"
   ]
  },
  {
   "cell_type": "markdown",
   "metadata": {},
   "source": [
    "- If the students are unable to get the type of the input help them out, and finally show them"
   ]
  },
  {
   "cell_type": "code",
   "execution_count": 17,
   "metadata": {},
   "outputs": [
    {
     "name": "stdout",
     "output_type": "stream",
     "text": [
      "<class 'str'>\n"
     ]
    }
   ],
   "source": [
    "# Finding the type of input\n",
    "num = input(\"Enter a number:\")\n",
    "print(type(num))"
   ]
  },
  {
   "cell_type": "markdown",
   "metadata": {},
   "source": [
    "> EXPLAIN<br>\n",
    "\n",
    "`type(num)` - this gives the data type of variable num\n",
    "- To see the type in output screen we use print statement\n",
    "`print( type(num) )`\n",
    "\n",
    "```"
   ]
  },
  {
   "cell_type": "code",
   "execution_count": 19,
   "metadata": {},
   "outputs": [
    {
     "name": "stdout",
     "output_type": "stream",
     "text": [
      "<class 'str'>\n"
     ]
    }
   ],
   "source": [
    "name = input(\"Enter any name:\")\n",
    "print(type(name))"
   ]
  },
  {
   "cell_type": "markdown",
   "metadata": {},
   "source": [
    "We can see that even if the input is number, string or anything it is taken as a string.\n",
    "ie. \n",
    "> The type of input is always string"
   ]
  },
  {
   "cell_type": "markdown",
   "metadata": {},
   "source": [
    "With this example we understand that the type of a input is string"
   ]
  },
  {
   "cell_type": "markdown",
   "metadata": {},
   "source": [
    "**Note:** We cannot perform mathematical operations directly on the numbers getting through input()"
   ]
  },
  {
   "cell_type": "markdown",
   "metadata": {},
   "source": [
    "`When two strings are added the second string is attached to the first one`\n",
    "> So it necessary to change the data types from string to any integer type (int or float), then only we can add the numbers"
   ]
  },
  {
   "cell_type": "markdown",
   "metadata": {},
   "source": [
    "------"
   ]
  },
  {
   "cell_type": "markdown",
   "metadata": {},
   "source": [
    "## Type Conversion"
   ]
  },
  {
   "cell_type": "markdown",
   "metadata": {},
   "source": [
    "It is very easy to convert one data type to another, in may cases we would require to convert one data type to another, just like we saw in the above case\n",
    "- In the example above, we need to convert `string to a integer`"
   ]
  },
  {
   "cell_type": "markdown",
   "metadata": {},
   "source": [
    "How to convert a data from opne type to another type?\n",
    "- **string to integer**\n",
    "- **integer to string**\n",
    "- **string to float**\n",
    "- **float to string**\n",
    "- **integer to float**\n",
    "- **float to integer**\n",
    "- **int to bool**\n",
    "- **bool to int**\n",
    "    "
   ]
  },
  {
   "cell_type": "markdown",
   "metadata": {},
   "source": [
    "> SYNTAX\n",
    "\n",
    "`datatype(value)`\n",
    "- This converts the value to that particular data type"
   ]
  },
  {
   "cell_type": "markdown",
   "metadata": {
    "slideshow": {
     "slide_type": "slide"
    }
   },
   "source": [
    "### Converting a value into int\n",
    "`int(value)` ----> Integer    \n",
    "- Where value can be str/float\n"
   ]
  },
  {
   "cell_type": "code",
   "execution_count": 23,
   "metadata": {
    "slideshow": {
     "slide_type": "slide"
    }
   },
   "outputs": [
    {
     "name": "stdout",
     "output_type": "stream",
     "text": [
      "12 <class 'str'>\n",
      "*----------------*\n",
      "12 <class 'int'>\n"
     ]
    }
   ],
   "source": [
    "# Teacher Example\n",
    "a = \"12\" # here the value is string \n",
    "print(a,type(a)) # we are confirming the type of the value a\n",
    "\n",
    "print(\"*----------------*\") # Just printing a line\n",
    "\n",
    "b = int(a) # Converting the value of a into int and storing to a\n",
    "print(b,type(b)) # checking that we have changed the type"
   ]
  },
  {
   "cell_type": "markdown",
   "metadata": {},
   "source": [
    "> TEACHER EXAMPLE\n",
    "- Converting integer to float \n",
    "\n",
    "> Critical Think - Students\n",
    "- If we convert a integer to a float, what is the change that can happen"
   ]
  },
  {
   "cell_type": "code",
   "execution_count": 24,
   "metadata": {},
   "outputs": [
    {
     "name": "stdout",
     "output_type": "stream",
     "text": [
      "10.0\n"
     ]
    }
   ],
   "source": [
    "a = 10 # integer\n",
    "print( float(10) )"
   ]
  },
  {
   "cell_type": "markdown",
   "metadata": {},
   "source": [
    "> TEACHER EXAMPLE\n",
    "- Converting Float *(decimal)* to int *(integer)*\n",
    "- Before you show this make the students think and get different outputs from them \n",
    "\n",
    "> Critical Think - Students\n",
    "- If we convert a integer to a float, what is the change that can happen"
   ]
  },
  {
   "cell_type": "code",
   "execution_count": 25,
   "metadata": {},
   "outputs": [
    {
     "name": "stdout",
     "output_type": "stream",
     "text": [
      "10\n"
     ]
    }
   ],
   "source": [
    "num = 10.5 # Floating value\n",
    "num_2 = int(num) # converting to integer\n",
    "print(num_2)"
   ]
  },
  {
   "cell_type": "code",
   "execution_count": 13,
   "metadata": {
    "slideshow": {
     "slide_type": "slide"
    }
   },
   "outputs": [
    {
     "name": "stdout",
     "output_type": "stream",
     "text": [
      "type of a <class 'str'> 21\n",
      "type of b <class 'float'> 22.8\n",
      "---------- After Converting ----------\n",
      "type after conversion - a : <class 'int'> 21\n",
      "type after conversion - b : <class 'int'> 22\n"
     ]
    }
   ],
   "source": [
    "a = \"21\" # str\n",
    "b = 22.8 # float\n",
    "convert_a = int(a) \n",
    "convert_b = int(b) \n",
    "print(\"type of a\",type(a),a)\n",
    "print(\"type of b\",type(b),b)\n",
    "print(\"---------- After Converting ----------\")\n",
    "print(\"type after conversion - a :\",type(convert_a),convert_a)\n",
    "print(\"type after conversion - b :\",type(convert_b),convert_b)"
   ]
  },
  {
   "cell_type": "code",
   "execution_count": 6,
   "metadata": {
    "slideshow": {
     "slide_type": "slide"
    }
   },
   "outputs": [
    {
     "name": "stdout",
     "output_type": "stream",
     "text": [
      "Enter number 1 :12\n",
      "Enter number 2 :22\n",
      "Sum =  1222\n",
      "Type of num_1 =  <class 'str'>\n",
      "Type of num_2 =  <class 'str'>\n"
     ]
    }
   ],
   "source": [
    "# Take 2 numbers as input from USER\n",
    "# Print the sum\n",
    "# Hint :: understand the type of variable\n",
    "# Hint : understand the data type using <type(variable)>\n",
    "num_1 = input(\"Enter number 1 :\")\n",
    "num_2 = input(\"Enter number 2 :\")\n",
    "sum = num_1 + num_2\n",
    "print(\"Sum = \",sum)\n",
    "type_1 = type(num_1)\n",
    "type_2 = type(num_2)\n",
    "print(\"Type of num_1 = \",type_1)\n",
    "print(\"Type of num_2 = \",type_2)"
   ]
  },
  {
   "cell_type": "code",
   "execution_count": 16,
   "metadata": {
    "slideshow": {
     "slide_type": "slide"
    }
   },
   "outputs": [
    {
     "name": "stdout",
     "output_type": "stream",
     "text": [
      "number 1 = 22\n",
      "number 2 = 25\n",
      "sum =  47\n"
     ]
    }
   ],
   "source": [
    "#METHOD 1\n",
    "# -----------\n",
    "# calculate the sum of two numbers\n",
    "# get numbers from user\n",
    "\n",
    "# OUTPUT\n",
    "# number 1 = 10\n",
    "# number 2 = 20\n",
    "# sum = 30\n",
    "\n",
    "num_1 = input(\"number 1 = \")\n",
    "num_2 = input(\"number 2 = \")\n",
    "sum_1 = int(num_1) + int(num_2)\n",
    "print(\"sum = \",sum_1)\n",
    "\n"
   ]
  },
  {
   "cell_type": "code",
   "execution_count": 18,
   "metadata": {
    "slideshow": {
     "slide_type": "slide"
    }
   },
   "outputs": [
    {
     "name": "stdout",
     "output_type": "stream",
     "text": [
      "number 1 = 10\n",
      "number 2 = 20\n",
      "sum =  30\n"
     ]
    }
   ],
   "source": [
    "# Method 2\n",
    "#__________________________________\n",
    "# calculate the sum of two numbers\n",
    "# get numbers from user\n",
    "\n",
    "# OUTPUT\n",
    "# number 1 = 10\n",
    "# number 2 = 20\n",
    "# sum = 30\n",
    "\n",
    "num_1 = int(input(\"number 1 = \"))\n",
    "num_2 = int(input(\"number 2 = \"))\n",
    "sum = num_1 + num_2\n",
    "print(\"sum = \",sum)\n",
    "\n"
   ]
  },
  {
   "cell_type": "code",
   "execution_count": 22,
   "metadata": {
    "slideshow": {
     "slide_type": "slide"
    }
   },
   "outputs": [
    {
     "name": "stdout",
     "output_type": "stream",
     "text": [
      "number 1 = 10\n",
      "number 2 = 20\n",
      "sum =  30\n"
     ]
    }
   ],
   "source": [
    "# Method 3\n",
    "# --------------------------------\n",
    "# calculate the sum of two numbers\n",
    "# get numbers from user\n",
    "\n",
    "# OUTPUT\n",
    "# number 1 = 10\n",
    "# number 2 = 20\n",
    "# sum = 30\n",
    "\n",
    "num_1 = input(\"number 1 = \") # num_1 - Str\n",
    "num_2 = input(\"number 2 = \") # num_2 - Str\n",
    "print(\"sum = \", (int(num_1) + int(num_2)) )\n",
    "\n"
   ]
  },
  {
   "cell_type": "code",
   "execution_count": null,
   "metadata": {},
   "outputs": [],
   "source": [
    "#show some error case1\n",
    "num = 'a'\n",
    "print(int(num))"
   ]
  },
  {
   "cell_type": "code",
   "execution_count": null,
   "metadata": {},
   "outputs": [],
   "source": [
    "#show some error case2\n",
    "num = '+'\n",
    "print(int(num))"
   ]
  },
  {
   "cell_type": "markdown",
   "metadata": {},
   "source": [
    "### Converting float to int"
   ]
  },
  {
   "cell_type": "markdown",
   "metadata": {},
   "source": [
    "**Syntax:**    \n",
    "    `int(value)`----> Integer      \n",
    "    Where value can be float/str\n",
    "    "
   ]
  },
  {
   "cell_type": "code",
   "execution_count": 5,
   "metadata": {
    "slideshow": {
     "slide_type": "slide"
    }
   },
   "outputs": [
    {
     "name": "stdout",
     "output_type": "stream",
     "text": [
      "22\n",
      "22\n"
     ]
    }
   ],
   "source": [
    "a = 22.5 # --float\n",
    "b = \"22\" # -- str\n",
    "print(int(a))\n",
    "print(int(b))"
   ]
  },
  {
   "cell_type": "markdown",
   "metadata": {},
   "source": [
    "<b><font color =red>Question 4</b></font> <br>\n",
    "What will be the output of following code snippet?<br>\n",
    "```\n",
    "num = 'a'\n",
    "print(int(num))\n",
    "```"
   ]
  },
  {
   "cell_type": "code",
   "execution_count": null,
   "metadata": {},
   "outputs": [],
   "source": [
    "#OUTPUT here!"
   ]
  },
  {
   "cell_type": "code",
   "execution_count": null,
   "metadata": {},
   "outputs": [],
   "source": [
    "#show case of special chars"
   ]
  },
  {
   "cell_type": "markdown",
   "metadata": {},
   "source": [
    "### Converting str to float"
   ]
  },
  {
   "cell_type": "markdown",
   "metadata": {},
   "source": [
    "**Syntax:**    \n",
    "    `float(value)`----> Float    \n",
    "    Where value can be int/str"
   ]
  },
  {
   "cell_type": "code",
   "execution_count": null,
   "metadata": {},
   "outputs": [],
   "source": [
    "#str to float example1"
   ]
  },
  {
   "cell_type": "code",
   "execution_count": null,
   "metadata": {},
   "outputs": [],
   "source": [
    "#str to float example2"
   ]
  },
  {
   "cell_type": "markdown",
   "metadata": {},
   "source": [
    "<b><font color =red>Question 5</b></font> <br>\n",
    "What will be the output of following code snippet?<br>\n",
    "```\n",
    "num = 'f'\n",
    "print(float(num))\n",
    "```"
   ]
  },
  {
   "cell_type": "code",
   "execution_count": null,
   "metadata": {},
   "outputs": [],
   "source": [
    "#OUTPUT here!"
   ]
  },
  {
   "cell_type": "code",
   "execution_count": null,
   "metadata": {},
   "outputs": [],
   "source": [
    "#str to float err example3"
   ]
  },
  {
   "cell_type": "markdown",
   "metadata": {},
   "source": [
    "### Converting int to float"
   ]
  },
  {
   "cell_type": "markdown",
   "metadata": {},
   "source": [
    "**Syntax:**    \n",
    "    `float(value)`----> Float    \n",
    "    Where value can be int/str"
   ]
  },
  {
   "cell_type": "code",
   "execution_count": null,
   "metadata": {},
   "outputs": [],
   "source": [
    "#int to float example1"
   ]
  },
  {
   "cell_type": "code",
   "execution_count": null,
   "metadata": {},
   "outputs": [],
   "source": [
    "#int to float example2"
   ]
  },
  {
   "cell_type": "code",
   "execution_count": null,
   "metadata": {},
   "outputs": [],
   "source": [
    "#int to float err example3"
   ]
  },
  {
   "cell_type": "markdown",
   "metadata": {},
   "source": [
    "### Converting int/float to str"
   ]
  },
  {
   "cell_type": "markdown",
   "metadata": {},
   "source": [
    "**Syntax:**    \n",
    "    `str(value)`----> String    \n",
    "    Where value can be int/float"
   ]
  },
  {
   "cell_type": "code",
   "execution_count": null,
   "metadata": {},
   "outputs": [],
   "source": [
    "#example1"
   ]
  },
  {
   "cell_type": "code",
   "execution_count": null,
   "metadata": {},
   "outputs": [],
   "source": [
    "#example2"
   ]
  },
  {
   "cell_type": "code",
   "execution_count": null,
   "metadata": {},
   "outputs": [],
   "source": [
    "#example3"
   ]
  },
  {
   "cell_type": "code",
   "execution_count": null,
   "metadata": {},
   "outputs": [],
   "source": [
    "#example4"
   ]
  },
  {
   "cell_type": "markdown",
   "metadata": {},
   "source": [
    "---"
   ]
  },
  {
   "cell_type": "markdown",
   "metadata": {},
   "source": [
    "<b><font color =red>Question 6</b></font> <br>\n",
    "Write a python program to accept two numbers from user and convert it to float and find the average<br>\n"
   ]
  },
  {
   "cell_type": "code",
   "execution_count": null,
   "metadata": {},
   "outputs": [],
   "source": []
  },
  {
   "cell_type": "markdown",
   "metadata": {},
   "source": [
    "<b><font color =red>Question 7</b></font> <br>\n",
    "Accept two alphabets from user and add them and print the result"
   ]
  },
  {
   "cell_type": "code",
   "execution_count": null,
   "metadata": {},
   "outputs": [],
   "source": []
  },
  {
   "cell_type": "markdown",
   "metadata": {},
   "source": [
    "---"
   ]
  },
  {
   "cell_type": "markdown",
   "metadata": {},
   "source": [
    "## Activities"
   ]
  },
  {
   "cell_type": "markdown",
   "metadata": {},
   "source": [
    "1. Write a python program to accept the name, age, class and school from user. Then convert age and class into integer and print all the details into the console."
   ]
  },
  {
   "cell_type": "markdown",
   "metadata": {},
   "source": [
    "2. Accept an integer from user and find the square of that number. Square should be printed in float format."
   ]
  },
  {
   "cell_type": "markdown",
   "metadata": {},
   "source": [
    "3. Accept an integer and float from user and find the sum and difference of them."
   ]
  },
  {
   "cell_type": "markdown",
   "metadata": {},
   "source": [
    "4. In the activity3, print the result in integer format"
   ]
  },
  {
   "cell_type": "markdown",
   "metadata": {},
   "source": [
    "5. Accept day, month and year of the date of birth from the user and print the result in **dd/mm/yyyy** format"
   ]
  },
  {
   "cell_type": "markdown",
   "metadata": {},
   "source": [
    "---"
   ]
  },
  {
   "cell_type": "code",
   "execution_count": null,
   "metadata": {},
   "outputs": [],
   "source": []
  }
 ],
 "metadata": {
  "kernelspec": {
   "display_name": "Python 3",
   "language": "python",
   "name": "python3"
  },
  "language_info": {
   "codemirror_mode": {
    "name": "ipython",
    "version": 3
   },
   "file_extension": ".py",
   "mimetype": "text/x-python",
   "name": "python",
   "nbconvert_exporter": "python",
   "pygments_lexer": "ipython3",
   "version": "3.9.0"
  }
 },
 "nbformat": 4,
 "nbformat_minor": 4
}
