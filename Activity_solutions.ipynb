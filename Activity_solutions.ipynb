{
 "cells": [
  {
   "cell_type": "markdown",
   "id": "4b0ebde9",
   "metadata": {},
   "source": [
    "# Activity Solutions"
   ]
  },
  {
   "cell_type": "markdown",
   "id": "cc4bec84",
   "metadata": {},
   "source": [
    "## Day 6"
   ]
  },
  {
   "cell_type": "markdown",
   "id": "b994636c",
   "metadata": {},
   "source": [
    "### 1"
   ]
  },
  {
   "cell_type": "code",
   "execution_count": 1,
   "id": "22d76174",
   "metadata": {},
   "outputs": [
    {
     "name": "stdout",
     "output_type": "stream",
     "text": [
      "Enter your name: Muhammed Ibrahim\n",
      "Enter your age: 67\n",
      "Muhammed Ibrahim  You are a Seniour Citizen\n"
     ]
    }
   ],
   "source": [
    "name = input(\"Enter your name: \")\n",
    "age = int(input(\"Enter your age: \"))\n",
    "if age > 60:\n",
    "    print(name,\" You are a Seniour Citizen\")\n",
    "else:\n",
    "    pass"
   ]
  },
  {
   "cell_type": "markdown",
   "id": "938ec244",
   "metadata": {},
   "source": [
    "### 2"
   ]
  },
  {
   "cell_type": "code",
   "execution_count": 2,
   "id": "ec2081cd",
   "metadata": {},
   "outputs": [
    {
     "name": "stdout",
     "output_type": "stream",
     "text": [
      "Enter your name: Akshay\n",
      "Hours worked: 32\n",
      "Akshay  Your total payment is: 3300\n"
     ]
    }
   ],
   "source": [
    "name = input(\"Enter your name: \")\n",
    "hours = int(input(\"Hours worked: \"))\n",
    "total = hours*100\n",
    "extra=0\n",
    "if hours >30:\n",
    "    extra = (hours-30)*50\n",
    "print(name,\" Your total payment is:\",total+extra)\n"
   ]
  },
  {
   "cell_type": "markdown",
   "id": "3750ba82",
   "metadata": {},
   "source": [
    "### 3"
   ]
  },
  {
   "cell_type": "code",
   "execution_count": 5,
   "id": "9e7e81a3",
   "metadata": {},
   "outputs": [
    {
     "name": "stdout",
     "output_type": "stream",
     "text": [
      "Enter your name: Sree\n",
      "Hours worked: fge4\n",
      "Invalid hour value!\n"
     ]
    }
   ],
   "source": [
    "try:\n",
    "    name = input(\"Enter your name: \")\n",
    "    hours = int(input(\"Hours worked: \"))\n",
    "    total = hours*100\n",
    "    extra=0\n",
    "    if hours >30:\n",
    "        extra = (hours-30)*50\n",
    "    print(name,\" Your total payment is:\",total+extra)\n",
    "except:\n",
    "    print(\"Invalid hour value!\")"
   ]
  },
  {
   "cell_type": "markdown",
   "id": "7aaf57f6",
   "metadata": {},
   "source": [
    "### 4"
   ]
  },
  {
   "cell_type": "code",
   "execution_count": 7,
   "id": "54f907b6",
   "metadata": {},
   "outputs": [
    {
     "name": "stdout",
     "output_type": "stream",
     "text": [
      "Enter your score:50\n",
      "D\n"
     ]
    }
   ],
   "source": [
    "num = int(input(\"Enter your score:\"))\n",
    "if 100>=num>=90:\n",
    "    grade = \"A\"\n",
    "elif 89>=num>=80:\n",
    "    grade = \"B\"\n",
    "elif 79>=num>=70:\n",
    "    grade = \"C\"\n",
    "elif 69>=num>=50:\n",
    "    grade='D'\n",
    "else:\n",
    "    print(\"Failed!\")\n",
    "    \n",
    "print(grade)"
   ]
  },
  {
   "cell_type": "markdown",
   "id": "bdcec231",
   "metadata": {},
   "source": [
    "### 5"
   ]
  },
  {
   "cell_type": "code",
   "execution_count": 8,
   "id": "353b0142",
   "metadata": {},
   "outputs": [
    {
     "name": "stdout",
     "output_type": "stream",
     "text": [
      "Enter your score:avb\n",
      "Invalid Mark\n"
     ]
    }
   ],
   "source": [
    "try:\n",
    "    num = int(input(\"Enter your score:\"))\n",
    "    if 100>=num>=90:\n",
    "        grade = \"A\"\n",
    "    elif 89>=num>=80:\n",
    "        grade = \"B\"\n",
    "    elif 79>=num>=70:\n",
    "        grade = \"C\"\n",
    "    elif 69>=num>=50:\n",
    "        grade='D'\n",
    "    else:\n",
    "        print(\"Failed!\")\n",
    "\n",
    "    print(grade)\n",
    "except:\n",
    "    print(\"Invalid Mark\")"
   ]
  },
  {
   "cell_type": "markdown",
   "id": "3a11b7f0",
   "metadata": {},
   "source": [
    "### 6"
   ]
  },
  {
   "cell_type": "code",
   "execution_count": 10,
   "id": "c73194e1",
   "metadata": {},
   "outputs": [
    {
     "name": "stdout",
     "output_type": "stream",
     "text": [
      "Enter a word: Mention\n",
      "Mention  contains  3  no.of vowels\n"
     ]
    }
   ],
   "source": [
    "word = input(\"Enter a word: \")\n",
    "count = 0\n",
    "if 'a' in word or 'A' in word:\n",
    "    count+=1\n",
    "if 'e' in word or 'E' in word:\n",
    "    count+=1\n",
    "if 'i' in word or 'I' in word:\n",
    "    count+=1\n",
    "if 'o' in word or 'O' in word:\n",
    "    count+=1\n",
    "if 'u' in word or 'U' in word:\n",
    "    count+=1\n",
    "\n",
    "if count==5:\n",
    "    print(word, \" contains all 5 vowels\")\n",
    "else:\n",
    "    print(word, \" contains \",count,\" no.of vowels\")\n"
   ]
  },
  {
   "cell_type": "markdown",
   "id": "d22e7d30",
   "metadata": {},
   "source": [
    "----"
   ]
  },
  {
   "cell_type": "markdown",
   "id": "26ad0087",
   "metadata": {},
   "source": [
    "## Day 7"
   ]
  },
  {
   "cell_type": "markdown",
   "id": "bc430425",
   "metadata": {},
   "source": [
    "### 1"
   ]
  },
  {
   "cell_type": "code",
   "execution_count": null,
   "id": "e53172fc",
   "metadata": {},
   "outputs": [],
   "source": [
    "def add(a,b):\n",
    "    print(\"Sum=\",a+b)\n",
    "    \n",
    "def sub(a,b):\n",
    "    print(\"Diffrence=\",a-b)\n",
    "\n",
    "def mult(a,b):\n",
    "    print(\"Product =\",a*b)\n",
    "    \n",
    "num1,num2 = int(input(\"Enter number 1:\")),int(input(\"Enter number 2:\"))\n",
    "choice = input(\"Enter a for addition,d for subtraction and m for multiplication:\")\n",
    "if choice == 'a' :\n",
    "    add(num1,num2)\n",
    "elif choice == 'd' :\n",
    "    sub(num1,num2)\n",
    "elif choice == 'm':\n",
    "    mult(num1,num2)\n",
    "else:\n",
    "    print(\"Invalid choice!\")"
   ]
  },
  {
   "cell_type": "markdown",
   "id": "5d6d328b",
   "metadata": {},
   "source": [
    "### 2"
   ]
  },
  {
   "cell_type": "code",
   "execution_count": null,
   "id": "f31dd60f",
   "metadata": {},
   "outputs": [],
   "source": [
    "def swap(a,b):\n",
    "    temp = a\n",
    "    a = b\n",
    "    b = temp\n",
    "    print(\"-----After Swap----\")\n",
    "    print(\"A=\",a,'\\n','B=',b)\n",
    "\n",
    "a = int(input(\"Enter A: \"))\n",
    "b = int(input(\"Enter B: \"))\n",
    "print(\"-----Before Swap----\")\n",
    "print(\"A=\",a,'\\n','B=',b)\n",
    "swap(a,b)"
   ]
  },
  {
   "cell_type": "markdown",
   "id": "c8dad899",
   "metadata": {},
   "source": [
    "### 3"
   ]
  },
  {
   "cell_type": "code",
   "execution_count": null,
   "id": "93a6a224",
   "metadata": {},
   "outputs": [],
   "source": [
    "def validate_password(passwd):\n",
    "    if len(passwd) > 8:\n",
    "        print(\"Strong Password\")\n",
    "    elif 5 <= len(passwd) <= 8:\n",
    "        print(\"Weak Password\")\n",
    "    else:\n",
    "        print(\"Password length should be greater than 5\")\n",
    "    \n",
    "passwd = input(\"Enter your password: \")\n",
    "validate_password(passwd)\n"
   ]
  },
  {
   "cell_type": "markdown",
   "id": "73819484",
   "metadata": {},
   "source": [
    "### 4"
   ]
  },
  {
   "cell_type": "code",
   "execution_count": 4,
   "id": "fbe5d2b3",
   "metadata": {},
   "outputs": [
    {
     "name": "stdout",
     "output_type": "stream",
     "text": [
      "Enter a float number: 10.3\n",
      "floor of  10.3  =  10\n",
      "ceil of  10.3  =  11\n"
     ]
    }
   ],
   "source": [
    "def floor(num):\n",
    "    f = int(num)\n",
    "    print(\"floor of \",num,\" = \",f)\n",
    "    \n",
    "def ceil(num):\n",
    "    c = int(num) + 1\n",
    "    print(\"ceil of \",num,\" = \",c)\n",
    "\n",
    "try:\n",
    "    num = float(input(\"Enter a float number: \"))\n",
    "    floor(num)\n",
    "    ceil(num)\n",
    "except:\n",
    "    print(\"Invalid Input!\")"
   ]
  },
  {
   "cell_type": "markdown",
   "id": "889d3194",
   "metadata": {},
   "source": [
    "### 5"
   ]
  },
  {
   "cell_type": "code",
   "execution_count": 8,
   "id": "d31f0164",
   "metadata": {},
   "outputs": [
    {
     "name": "stdout",
     "output_type": "stream",
     "text": [
      "Enter a: 1\n",
      "Enter b: 5\n",
      "Enter c: 6\n",
      "Equation:  1x^2 + 5x + 6 = 0\n",
      "Two real roots\n"
     ]
    }
   ],
   "source": [
    "def display(a,b,c):\n",
    "    eqn = str(a)+\"x^2 + \"+str(b)+\"x + \"+str(c)+\" = 0\"\n",
    "    print(\"Equation: \",eqn)\n",
    "\n",
    "def root(a,b,c):\n",
    "    disc = (b**2)-(4*a*c)\n",
    "    if disc > 0:\n",
    "        print(\"Two real roots\")\n",
    "    elif disc == 0:\n",
    "        print(\"One real root\")\n",
    "    else:\n",
    "        print(\"No real roots\")\n",
    "\n",
    "a,b,c = int(input(\"Enter a: \")),int(input(\"Enter b: \")),int(input(\"Enter c: \"))\n",
    "display(a,b,c)\n",
    "root(a,b,c)"
   ]
  },
  {
   "cell_type": "markdown",
   "id": "d7480c49",
   "metadata": {},
   "source": [
    "---"
   ]
  },
  {
   "cell_type": "markdown",
   "id": "68a8d70e",
   "metadata": {},
   "source": [
    "## Day 8"
   ]
  },
  {
   "cell_type": "markdown",
   "id": "fa6fd724",
   "metadata": {},
   "source": [
    "### 1"
   ]
  },
  {
   "cell_type": "code",
   "execution_count": 12,
   "id": "04cdbc9c",
   "metadata": {},
   "outputs": [
    {
     "name": "stdout",
     "output_type": "stream",
     "text": [
      "Enter length: 2\n",
      "Enter width: 2\n",
      "Shape is square\n",
      "Area =  4.0\n",
      "Perimeter =  8.0\n"
     ]
    }
   ],
   "source": [
    "def calc(l,w):\n",
    "    if l == w:\n",
    "        print(\"Shape is square\")\n",
    "    else:\n",
    "        print(\"Shape is rectangle\")\n",
    "    area = l*w\n",
    "    peri = 2*(l+w)\n",
    "    print(\"Area = \",area)\n",
    "    print(\"Perimeter = \",peri)\n",
    "    \n",
    "l,w = float(input(\"Enter length: \")),float(input(\"Enter width: \"))\n",
    "calc(l,w)"
   ]
  },
  {
   "cell_type": "markdown",
   "id": "8472b207",
   "metadata": {},
   "source": [
    "### 2"
   ]
  },
  {
   "cell_type": "code",
   "execution_count": 13,
   "id": "4e7b78bf",
   "metadata": {},
   "outputs": [
    {
     "name": "stdout",
     "output_type": "stream",
     "text": [
      "Enter A:10\n",
      "Enter B:23\n",
      "Enter c:17\n",
      "B= 23  is greatest\n"
     ]
    }
   ],
   "source": [
    "def greatest(a,b,c):\n",
    "    if a>b and a>c:\n",
    "        print(\"A=\",a,\" is greatest\")\n",
    "    elif b>a and b>c:\n",
    "        print(\"B=\",b,\" is greatest\")\n",
    "    else:\n",
    "        print(\"C=\",c,\" is greatest\")\n",
    "\n",
    "a,b,c = int(input(\"Enter A:\")), int(input(\"Enter B:\")), int(input(\"Enter c:\"))\n",
    "greatest(a,b,c)"
   ]
  },
  {
   "cell_type": "markdown",
   "id": "69595ff3",
   "metadata": {},
   "source": [
    "### 3"
   ]
  },
  {
   "cell_type": "code",
   "execution_count": 18,
   "id": "4a239c2e",
   "metadata": {},
   "outputs": [
    {
     "name": "stdout",
     "output_type": "stream",
     "text": [
      "Enter a side:1\n",
      "Enter b side:2\n",
      "Enter c side:3\n",
      "Triangle is NOT right angled\n"
     ]
    }
   ],
   "source": [
    "def big(a,b,c):\n",
    "    if a>b and a>c:\n",
    "        check(a,b,c)\n",
    "    elif b>a and b>c:\n",
    "        check(b,a,c)\n",
    "    else:\n",
    "        check(c,a,b)\n",
    "    \n",
    "def check(h,a,b):\n",
    "    if (h**2) == (a**2) + (b**2) :\n",
    "        print(\"Triangle is right angled\")\n",
    "    else:\n",
    "        print(\"Triangle is NOT right angled\")\n",
    "\n",
    "a,b,c = int(input(\"Enter a side:\")), int(input(\"Enter b side:\")), int(input(\"Enter c side:\"))\n",
    "big(a,b,c)\n"
   ]
  },
  {
   "cell_type": "markdown",
   "id": "04957bd5",
   "metadata": {},
   "source": [
    "### 4"
   ]
  },
  {
   "cell_type": "code",
   "execution_count": 23,
   "id": "46e1d9df",
   "metadata": {},
   "outputs": [
    {
     "name": "stdout",
     "output_type": "stream",
     "text": [
      "triangle\n",
      "quadrilateral\n",
      "pentagon\n",
      "octagon\n",
      "Not a  polygon\n"
     ]
    }
   ],
   "source": [
    "def shape(*args):\n",
    "    n = len(args)\n",
    "    if n == 3:\n",
    "        print(\"triangle\")\n",
    "    elif n == 4:\n",
    "        print(\"quadrilateral\")\n",
    "    elif n == 5:\n",
    "        print(\"pentagon\")\n",
    "    elif n == 6:\n",
    "        print(\"hexagon\")\n",
    "    elif n == 7:\n",
    "        print(\"heptagon\")\n",
    "    elif n == 8:\n",
    "        print(\"octagon\")\n",
    "    elif n > 8:\n",
    "        print(\"polygon\")\n",
    "    else:\n",
    "        print(\"Not a  polygon\")\n",
    "            \n",
    "\n",
    "\n",
    "shape(1,2,3)\n",
    "shape(2,2,3,3)\n",
    "shape(14,30,23,15,21)\n",
    "shape(2,4,5,3,6,8,3,5)\n",
    "shape(10,20)"
   ]
  },
  {
   "cell_type": "markdown",
   "id": "358ae03e",
   "metadata": {},
   "source": [
    "### 5"
   ]
  },
  {
   "cell_type": "code",
   "execution_count": 28,
   "id": "dd970e6f",
   "metadata": {},
   "outputs": [
    {
     "name": "stdout",
     "output_type": "stream",
     "text": [
      "Average=  5.8\n"
     ]
    }
   ],
   "source": [
    "def average(**kwa):\n",
    "    n = len(kwa)\n",
    "    sum = 0\n",
    "    for key in kwa:\n",
    "        sum+=kwa[key]\n",
    "    avg = sum/n\n",
    "    print(\"Average= \",avg)\n",
    "    \n",
    "average(a=4,b=5,c=8,d=8,e=4)"
   ]
  },
  {
   "cell_type": "markdown",
   "id": "17300878",
   "metadata": {},
   "source": [
    "------"
   ]
  },
  {
   "cell_type": "markdown",
   "id": "d46903bf",
   "metadata": {},
   "source": [
    "## Day 9"
   ]
  },
  {
   "cell_type": "markdown",
   "id": "cca59006",
   "metadata": {},
   "source": [
    "### 1"
   ]
  },
  {
   "cell_type": "code",
   "execution_count": 33,
   "id": "268609ec",
   "metadata": {},
   "outputs": [
    {
     "name": "stdout",
     "output_type": "stream",
     "text": [
      "Enter a value, press q for stop: 10\n",
      "Enter a value, press q for stop: 20\n",
      "Enter a value, press q for stop: 30\n",
      "Enter a value, press q for stop: q\n",
      "Average= 20.0\n"
     ]
    }
   ],
   "source": [
    "val = 0\n",
    "sum =0\n",
    "count = 0\n",
    "while( val != 'q'):\n",
    "    val = input(\"Enter a value, press q for stop: \")\n",
    "    if val == 'q':\n",
    "        break\n",
    "    count += 1\n",
    "    sum += int(val)\n",
    "\n",
    "print(\"Average=\",sum/count)"
   ]
  },
  {
   "cell_type": "markdown",
   "id": "7c338de1",
   "metadata": {},
   "source": [
    "### 2"
   ]
  },
  {
   "cell_type": "code",
   "execution_count": 1,
   "id": "a2bbd716",
   "metadata": {},
   "outputs": [
    {
     "name": "stdout",
     "output_type": "stream",
     "text": [
      "Enter start limit: 10\n",
      "Enter end limit: 20\n",
      "10\n",
      "12\n",
      "14\n",
      "16\n",
      "18\n",
      "20\n"
     ]
    }
   ],
   "source": [
    "n1 = int(input(\"Enter start limit: \"))\n",
    "n2 = int(input(\"Enter end limit: \"))\n",
    "i = n1-1\n",
    "\n",
    "while(i <= n2):\n",
    "    i += 1\n",
    "    if i%2 == 1:\n",
    "        continue\n",
    "    print(i)"
   ]
  },
  {
   "cell_type": "markdown",
   "id": "492cf8d8",
   "metadata": {},
   "source": [
    "### 3"
   ]
  },
  {
   "cell_type": "code",
   "execution_count": 1,
   "id": "11f4b2d9",
   "metadata": {},
   "outputs": [
    {
     "name": "stdout",
     "output_type": "stream",
     "text": [
      "1 x13 =  13\n",
      "2 x13 =  26\n",
      "3 x13 =  39\n",
      "4 x13 =  52\n",
      "5 x13 =  65\n",
      "6 x13 =  78\n",
      "7 x13 =  91\n",
      "8 x13 =  104\n",
      "9 x13 =  117\n",
      "10 x13 =  130\n"
     ]
    }
   ],
   "source": [
    "i = 1\n",
    "while(i<=10):\n",
    "    print(i,'x13 = ',i*13)\n",
    "    i = i+1"
   ]
  },
  {
   "cell_type": "markdown",
   "id": "db2bcd75",
   "metadata": {},
   "source": [
    "### 4"
   ]
  },
  {
   "cell_type": "code",
   "execution_count": 4,
   "id": "983eba70",
   "metadata": {},
   "outputs": [
    {
     "name": "stdout",
     "output_type": "stream",
     "text": [
      "Enter start limit: 36\n",
      "Enter end limit: 100\n",
      "36\n"
     ]
    }
   ],
   "source": [
    "def disp(n1,n2):\n",
    "    i = n1-1\n",
    "    while(i <= n2):\n",
    "        i += 1\n",
    "        print(i)\n",
    "        sqrt = (i**0.5)\n",
    "        if int(sqrt) == sqrt:\n",
    "            break\n",
    "\n",
    "n1 = int(input(\"Enter start limit: \"))\n",
    "n2 = int(input(\"Enter end limit: \"))\n",
    "disp(n1,n2)\n"
   ]
  },
  {
   "cell_type": "markdown",
   "id": "34726d58",
   "metadata": {},
   "source": [
    "### 5"
   ]
  },
  {
   "cell_type": "code",
   "execution_count": 6,
   "id": "a05d58e1",
   "metadata": {},
   "outputs": [
    {
     "name": "stdout",
     "output_type": "stream",
     "text": [
      "*\n",
      "\n",
      "**\n",
      "\n",
      "***\n",
      "\n",
      "****\n",
      "\n",
      "*****\n",
      "\n"
     ]
    }
   ],
   "source": [
    "row = 1\n",
    "while(row <= 5):\n",
    "    col = 1\n",
    "    while(col <= row):\n",
    "        print('*',end='')\n",
    "        col +=1\n",
    "    print('\\n')\n",
    "    row +=1"
   ]
  },
  {
   "cell_type": "markdown",
   "id": "ee1ae43c",
   "metadata": {},
   "source": [
    "### 6"
   ]
  },
  {
   "cell_type": "code",
   "execution_count": 4,
   "id": "8cbe1440",
   "metadata": {},
   "outputs": [
    {
     "name": "stdout",
     "output_type": "stream",
     "text": [
      "Enter a number: 0089\n",
      "sum of digits of 89 = 17\n"
     ]
    }
   ],
   "source": [
    "num = int(input(\"Enter a number: \"))\n",
    "n = num\n",
    "sum = 0\n",
    "while(n>0):\n",
    "    d = n%10\n",
    "    sum = sum+d\n",
    "    n = n//10\n",
    "print(\"sum of digits of\",num,\"=\",sum)"
   ]
  },
  {
   "cell_type": "markdown",
   "id": "99c774ca",
   "metadata": {},
   "source": [
    "### 7"
   ]
  },
  {
   "cell_type": "code",
   "execution_count": 19,
   "id": "14d95680",
   "metadata": {},
   "outputs": [
    {
     "name": "stdout",
     "output_type": "stream",
     "text": [
      "Enter a number: 123\n",
      "Reverse of 123 = 321\n"
     ]
    }
   ],
   "source": [
    "num = int(input(\"Enter a number: \"))\n",
    "n = num\n",
    "rev = 0\n",
    "while(n>0):\n",
    "    d = n%10\n",
    "    rev = rev*10+d\n",
    "    n = n//10\n",
    "print(\"Reverse of\",num,\"=\",rev)"
   ]
  },
  {
   "cell_type": "markdown",
   "id": "ec32315b",
   "metadata": {},
   "source": [
    "---"
   ]
  },
  {
   "cell_type": "markdown",
   "id": "6c0184e5",
   "metadata": {},
   "source": [
    "## Day 10"
   ]
  },
  {
   "cell_type": "markdown",
   "id": "abf445c4",
   "metadata": {},
   "source": [
    "### 1"
   ]
  },
  {
   "cell_type": "code",
   "execution_count": 1,
   "id": "c983f153",
   "metadata": {},
   "outputs": [
    {
     "name": "stdout",
     "output_type": "stream",
     "text": [
      "Enter a number: 1\n",
      "Enter a number: 2\n",
      "Enter a number: 3\n",
      "Enter a number: 4\n",
      "Enter a number: 5\n",
      "[1, 2, 3, 4, 5]\n",
      "[1, 8, 27, 64, 125]\n"
     ]
    }
   ],
   "source": [
    "lis = []\n",
    "i = 1\n",
    "while(i<=5):\n",
    "    lis.append(int(input(\"Enter a number: \")))\n",
    "    i = i+1\n",
    "\n",
    "print(lis)\n",
    "\n",
    "i=0\n",
    "while(i<5):\n",
    "    lis[i] = lis[i]**3\n",
    "    i = i+1\n",
    "print(lis)"
   ]
  },
  {
   "cell_type": "markdown",
   "id": "6d751fa9",
   "metadata": {},
   "source": [
    "### 2"
   ]
  },
  {
   "cell_type": "code",
   "execution_count": 3,
   "id": "013bc75b",
   "metadata": {},
   "outputs": [
    {
     "name": "stdout",
     "output_type": "stream",
     "text": [
      "Enter a number: 12\n",
      "Enter a number: 13\n",
      "Enter a number: 14\n",
      "Enter a number: 23\n",
      "Enter a number: 45\n",
      "Enter a number: 654\n",
      "Enter a number: 5667\n",
      "Enter a number: 2556\n",
      "Enter a number: 33\n",
      "Enter a number: 2\n",
      "Enter number to be searched: 100\n",
      "Not present!\n"
     ]
    }
   ],
   "source": [
    "lis = []\n",
    "i = 1\n",
    "while(i<=10):\n",
    "    lis.append(int(input(\"Enter a number: \")))\n",
    "    i = i+1\n",
    "num = int(input(\"Enter number to be searched: \"))\n",
    "\n",
    "if num in lis:\n",
    "    print(\"Present!\")\n",
    "else:\n",
    "    print(\"Not present!\")"
   ]
  },
  {
   "cell_type": "markdown",
   "id": "ffa465f0",
   "metadata": {},
   "source": [
    "### 3"
   ]
  },
  {
   "cell_type": "code",
   "execution_count": 4,
   "id": "7076349b",
   "metadata": {},
   "outputs": [
    {
     "name": "stdout",
     "output_type": "stream",
     "text": [
      "Enter a number: 10\n",
      "Enter a number: 20\n",
      "Enter a number: 24\n",
      "Enter a number: 25\n",
      "Enter a number: 26\n",
      "Enter a number: 27\n",
      "Enter a number: 28\n",
      "Enter a number: 29\n",
      "Enter a number: 30\n",
      "Enter a number: 31\n",
      "[10, 20, 24, 25, 26, 27, 28, 29, 30, 31]\n",
      "[31, 30, 29, 28, 27, 26, 25, 24, 20, 10]\n"
     ]
    }
   ],
   "source": [
    "lis = []\n",
    "i = 1\n",
    "while(i<=10):\n",
    "    lis.append(int(input(\"Enter a number: \")))\n",
    "    i = i+1\n",
    "\n",
    "print(lis)\n",
    "\n",
    "lis_copy = []\n",
    "i = len(lis)-1\n",
    "while(i>=0):\n",
    "    lis_copy.append(lis[i])\n",
    "    i = i-1\n",
    "print(lis_copy)"
   ]
  },
  {
   "cell_type": "markdown",
   "id": "4bdfaea3",
   "metadata": {},
   "source": [
    "### 4"
   ]
  },
  {
   "cell_type": "code",
   "execution_count": null,
   "id": "f07561d4",
   "metadata": {},
   "outputs": [],
   "source": [
    "#code here"
   ]
  },
  {
   "cell_type": "markdown",
   "id": "d42de8f4",
   "metadata": {},
   "source": [
    "### 5"
   ]
  },
  {
   "cell_type": "code",
   "execution_count": 19,
   "id": "d2119791",
   "metadata": {},
   "outputs": [
    {
     "name": "stdout",
     "output_type": "stream",
     "text": [
      "\n",
      "\n",
      "-----------1----------\n",
      "2\n",
      "\n",
      "\n",
      "-----------2----------\n",
      "['ABCD', 'QWERTY', 'India', True, '1010', '#', True, False]\n",
      "\n",
      "\n",
      "-----------3----------\n",
      "5\n",
      "\n",
      "\n",
      "-----------4----------\n",
      "[False, True, '#', '1010', True, 'India', 'QWERTY', 'ABCD']\n",
      "\n",
      "\n",
      "-----------5----------\n",
      "['ABCD', 'QWERTY', 'India', '1010', '#']\n",
      "\n",
      "\n",
      "-----------6----------\n",
      "['ABCD', 'QWERTY', 'India', True, '1010', True, False]\n",
      "\n",
      "\n",
      "-----------7----------\n",
      "ABCD  India  1010  False  "
     ]
    }
   ],
   "source": [
    "lis = ['ABCD','QWERTY','india',True,'1010','#',True,False]\n",
    "\n",
    "print(\"\\n\\n-----------1----------\")\n",
    "count =0\n",
    "i =0\n",
    "while(i<8):\n",
    "    if lis[i] == True:\n",
    "        count = count+1\n",
    "    i = i+1\n",
    "print(count)\n",
    "\n",
    "print(\"\\n\\n-----------2----------\")\n",
    "lis[2] = 'India'\n",
    "print(lis)\n",
    "\n",
    "print(\"\\n\\n-----------3----------\")\n",
    "ind = lis.index('#')\n",
    "print(ind)\n",
    "\n",
    "print(\"\\n\\n-----------4----------\")\n",
    "print(lis[::-1])\n",
    "\n",
    "print(\"\\n\\n-----------5----------\")\n",
    "lis2 = []\n",
    "i=0\n",
    "while(i<8):\n",
    "    if type(lis[i]) is str:\n",
    "        lis2.append(lis[i])\n",
    "    i = i+1\n",
    "print(lis2)\n",
    "\n",
    "print(\"\\n\\n-----------6----------\")\n",
    "lis.remove('#')\n",
    "print(lis)\n",
    "\n",
    "print(\"\\n\\n-----------7----------\")\n",
    "i=0\n",
    "while(i<8):\n",
    "    if i%2 == 0:\n",
    "        print(lis[i],end='  ')\n",
    "    i = i+1"
   ]
  },
  {
   "cell_type": "markdown",
   "id": "33e2be30",
   "metadata": {},
   "source": [
    "### 6"
   ]
  },
  {
   "cell_type": "code",
   "execution_count": 21,
   "id": "df62cac6",
   "metadata": {},
   "outputs": [
    {
     "name": "stdout",
     "output_type": "stream",
     "text": [
      "Enter 20 numbers seperated by colon symbol: 10:11:-24:12:0:-32:-1:9:3:8:0:1\n",
      "Number of positive integers:  7\n",
      "Number of negative integers:  3\n",
      "Number of zeros:  2\n",
      "Number of odd numbers:  5\n",
      "Number of even numbers:  7\n"
     ]
    }
   ],
   "source": [
    "line = input(\"Enter 20 numbers seperated by colon symbol: \")\n",
    "lis = line.split(':')\n",
    "\n",
    "i = 0\n",
    "while(i<len(lis)):\n",
    "    lis[i] = int(lis[i])\n",
    "    i +=1\n",
    "\n",
    "c_pos = 0\n",
    "c_neg = 0\n",
    "c_odd = 0\n",
    "c_even = 0\n",
    "c_zero = 0\n",
    "\n",
    "i = 0\n",
    "while(i<len(lis)):\n",
    "    if lis[i] > 0:\n",
    "        c_pos += 1\n",
    "    elif lis[i] < 0:\n",
    "        c_neg += 1\n",
    "    else:\n",
    "        c_zero += 1\n",
    "        \n",
    "    if lis[i] % 2 == 0:\n",
    "        c_even += 1\n",
    "    \n",
    "    else:\n",
    "        c_odd += 1\n",
    "    \n",
    "    i = i+1\n",
    "\n",
    "print(\"Number of positive integers: \", c_pos)\n",
    "print(\"Number of negative integers: \", c_neg)\n",
    "print(\"Number of zeros: \", c_zero)\n",
    "print(\"Number of odd numbers: \", c_odd)\n",
    "print(\"Number of even numbers: \", c_even)\n",
    "\n"
   ]
  },
  {
   "cell_type": "code",
   "execution_count": null,
   "id": "94345c45",
   "metadata": {},
   "outputs": [],
   "source": []
  }
 ],
 "metadata": {
  "kernelspec": {
   "display_name": "Python 3",
   "language": "python",
   "name": "python3"
  },
  "language_info": {
   "codemirror_mode": {
    "name": "ipython",
    "version": 3
   },
   "file_extension": ".py",
   "mimetype": "text/x-python",
   "name": "python",
   "nbconvert_exporter": "python",
   "pygments_lexer": "ipython3",
   "version": "3.8.3"
  }
 },
 "nbformat": 4,
 "nbformat_minor": 5
}
