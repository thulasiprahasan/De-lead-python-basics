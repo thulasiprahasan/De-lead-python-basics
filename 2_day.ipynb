{
 "cells": [
  {
   "cell_type": "markdown",
   "id": "14b579bc",
   "metadata": {},
   "source": [
    "## Index   \n",
    "\n",
    "* **High Level Language**   \n",
    "\n",
    "\n",
    "* **Compiler Vs Interpreter**   \n",
    "\n",
    "\n",
    "* **What is an Algorithm?**   \n",
    "\n",
    "\n",
    "* **What is  a Program?**   \n",
    "\n",
    "\n",
    "* **What is a Script?**   \n",
    "  * .py extension   \n",
    "     \n",
    "\n",
    "* **Shell**   \n",
    "  * Terminal\n",
    "  * Text editor Vs Shell   \n",
    "  * How to check the version of python   \n",
    "  \n",
    "  \n",
    "* **How to check python version ?**\n",
    "\n",
    "\n",
    "\n",
    "* **How to get the location of python interpreter ?**\n",
    "\n",
    "\n",
    "* **Working With VS CODE**   \n",
    "\n",
    "\n",
    "* **Working with PyCharm**   \n",
    "\n",
    "\n",
    "* **Coding in Pydroid**  \n",
    "\n",
    "---"
   ]
  },
  {
   "cell_type": "markdown",
   "id": "a0cb4c04",
   "metadata": {},
   "source": [
    "## High Level Languages\n",
    "\n",
    "1. **Machine Language**    \n",
    "&nbsp;\n",
    "  * *These are the sequence of instructions written in the form of binary numbers consisting of 1's, O's to which the computer responds directly.*   \n",
    "  In early days codes refers to machine langauage   \n",
    "  eg:-   \n",
    "  ![](images/machine_lang.jpg)    \n",
    "&nbsp;\n",
    "\n",
    " \n",
    "2. **High Level Language**   \n",
    "\n",
    "\n",
    "  * *These languages are written using a set of words and symbols following some rules similar to a natural language such as English.*   \n",
    "\n",
    "\n",
    "  * **Source Code**: *Programs that written in high-level languages. These programs are converted into machine–readable form by using compilers or interpreters*   \n",
    "\n",
    "\n",
    "  * **High Level Languagues**: C, C++, Java, PHP, Python etc   \n",
    "     eg:-\n",
    "     *C programming for adding two integers*     \n",
    "     ```\n",
    "      int a,b;   \n",
    "      a = 10;   \n",
    "      b = 20;   \n",
    "      printf(\"%d\",a+b)\n",
    "      ```\n",
    "  \n",
    "---"
   ]
  },
  {
   "cell_type": "markdown",
   "id": "90d84918",
   "metadata": {},
   "source": [
    "### Binary Code"
   ]
  },
  {
   "cell_type": "markdown",
   "id": "c5fe974a",
   "metadata": {},
   "source": [
    "\n",
    "<img src=\"images/binary.gif\" style=\"width: 600px;height=600px;\"/>"
   ]
  },
  {
   "cell_type": "markdown",
   "id": "2db9dc15",
   "metadata": {},
   "source": [
    "\n",
    "binary numbers\n",
    "----------------------\n",
    "0    ----- 0    \n",
    "1    ----- 1    \n",
    "10   ------ 2   \n",
    "11   ------ 3   \n",
    "100 -------- 4   \n",
    "101 ------- 5   \n",
    "110 ------- 6   \n",
    "111 ------- 7   \n",
    "1000 ------- 8   \n",
    "1001 ------- 9\n",
    "1010 -------- 10\n",
    "\n",
    "\n",
    "\n",
    "\n",
    "\n",
    "- The bit block length is basically depends upon the word length of the processor.\n",
    "- It can be: 8, 16, 32, 64, 128 bits\n",
    "\n",
    "### Other number systems\n",
    "- Decimal number with base 10 uses:- 0 to 9\n",
    "- Octal numbers with base 8 uses :- 0 to 7\n",
    "- Hexa decimal numbers with base 16 uses :- 0 to 9, A,B,C,D,E,F"
   ]
  },
  {
   "cell_type": "markdown",
   "id": "81d2b435",
   "metadata": {},
   "source": [
    "### Binary to decimal convertion\n",
    "\n",
    "![](images/b_to_d.gif)"
   ]
  },
  {
   "cell_type": "code",
   "execution_count": 2,
   "id": "f32fec3e",
   "metadata": {
    "slideshow": {
     "slide_type": "skip"
    }
   },
   "outputs": [
    {
     "name": "stdout",
     "output_type": "stream",
     "text": [
      "11\n"
     ]
    }
   ],
   "source": [
    "#Python program to add two numbers\n",
    "a = 4\n",
    "b = 7\n",
    "print(a+b)"
   ]
  },
  {
   "cell_type": "code",
   "execution_count": 1,
   "id": "c0fd281c",
   "metadata": {},
   "outputs": [
    {
     "name": "stdout",
     "output_type": "stream",
     "text": [
      "Hello World!\n"
     ]
    }
   ],
   "source": [
    "#Python program to print a sentence\n",
    "print(\"Hello World!\")"
   ]
  },
  {
   "cell_type": "markdown",
   "id": "68d9550d",
   "metadata": {},
   "source": [
    "### High Level to Low level Language\n",
    "\n",
    "<img src=\"images/high_low.png\" style=\"width: 600px;height=600px;\"/>\n",
    "\n",
    "<img src=\"images/h_to_l_2.png\" style=\"width: 600px;height=600px;\"/>"
   ]
  },
  {
   "cell_type": "markdown",
   "id": "affad6bf",
   "metadata": {},
   "source": [
    "## Compiler & Interpreter   \n",
    "\n",
    "1. **Compiler**   \n",
    "\n",
    "  - *A kind of translator that translates a program into another program(target language)*   \n",
    "\n",
    "  - Usually Known as the language translator of high-level language into machine language    \n",
    "\n",
    "  - Translation Process:   \n",
    "    1. Compiler load the program into main memory and stores.   \n",
    "    2. Scans and translate the entire source code into machine language.   \n",
    "    3. During the scanning time, checks the syntax(grammer rules), if it is wrong,   \n",
    "    4. Display error messages to screen, and stops the translation; in case of errors compiler never create the target code.   \n",
    "    5. Once the program has been compiled, the resulting machine code is saved separately, and can be run on its own at any time.   \n",
    "\n",
    "\n",
    "  ![](images/compiler.jpg)\n",
    "\n",
    "\n",
    "2. **Interpreter**\n",
    "\n",
    "\n",
    "  - *Also a language translator and translates high-level language into machine language.*          \n",
    "\n",
    "\n",
    "  - Unlike compiler translates a statement in the source code and executes the statement immediately.   \n",
    "\n",
    "\n",
    "  - When an error is encountered in the program, the execution of the program is halted and an error message is displayed.    \n",
    "\n",
    "\n",
    "  ![](images/interpreter.jpg)   \n",
    "\n",
    "\n",
    "\n",
    "3. **Compiler Vs Interpreter**   \n",
    "\n",
    "\n",
    "  ![](images/compiler_interpreter.jpg)   \n",
    "\n",
    "\n"
   ]
  },
  {
   "cell_type": "markdown",
   "id": "69632e27",
   "metadata": {},
   "source": [
    "### Algorithm"
   ]
  },
  {
   "cell_type": "markdown",
   "id": "14bcabb9",
   "metadata": {},
   "source": [
    "## What is an algorithm?\n",
    "\n",
    "> Procedures to solve a problem, usually written as steps \n",
    "\n",
    "Recipe of a dish, solving a mathematical equation etc can be written as an algorithm   "
   ]
  },
  {
   "cell_type": "markdown",
   "id": "40759a62",
   "metadata": {},
   "source": [
    "**Real life Example**\n",
    "\n",
    "![](images/algorithum_brush.gif)"
   ]
  },
  {
   "cell_type": "markdown",
   "id": "2d12b45a",
   "metadata": {},
   "source": [
    "Question : Write a step by step procedure to brushing your teeth\n",
    "\n",
    "> Ask the students to write down the steps "
   ]
  },
  {
   "cell_type": "markdown",
   "id": "6c4b218b",
   "metadata": {},
   "source": [
    "```\n",
    "Answer\n",
    "------\n",
    "Step 1 : Take your brush\n",
    "Step 2 : Take your toothpaste\n",
    "Step 3 : Squeez your toothpaste to the brush\n",
    "Step 4 : Start brushing\n",
    "Step 5 : Spit out once your mouth becomes full\n",
    "Step 6 : Repeat step 4 and 5 atleast 3 times\n",
    "Step 7 : Stop\n",
    "```"
   ]
  },
  {
   "cell_type": "markdown",
   "id": "9c532d74",
   "metadata": {},
   "source": [
    "\n",
    "* example in programming language:-   \n",
    "- This is a example of how we write algorithm when writing a program.\n",
    "- Do not worry if you do not understand some terms\n",
    "- We will learn it in coming sessions\n",
    "\n",
    " **`Algorithm for adding two numbers`**\n",
    " - STEP 1. START   \n",
    " - STEP 2. Read two numbers   \n",
    " - STEP 3. Store them in two variables A,B   \n",
    " - STEP 4. Perform SUM = A+B   \n",
    " - STEP 5. Print SUM   \n",
    " - STEP 6. END   \n",
    "\n",
    "\n"
   ]
  },
  {
   "cell_type": "markdown",
   "id": "5c15b455",
   "metadata": {},
   "source": [
    "## What is a program ?\n",
    "\n",
    "- *Elaborated alogorithm that can be a set of instructions for computer to perform a task.*      \n",
    "\n",
    "\n",
    "- *Simply a set of instructions to perform some task over a set of data*    \n",
    "\n",
    "\n",
    "- Unlike algorithm, to write a program we need to follow some grammer rules called syntax.   \n",
    "\n",
    "\n",
    "- **Features of a good program**   \n",
    "   - Relability - It should work properly.   \n",
    "   - Speed - Task should execute quickly.   \n",
    "   - Clarity & Simplicity - It should be understandable to others.   \n",
    "   - Error Tolerance - Error messages should displayed properly.   \n",
    "   - Efficiency - Utilise the memory efficiently.   \n",
    "   - Modularity - Breaking up of bigger programs into smaller indivitual units.   \n",
    "\n",
    "\n",
    "\n"
   ]
  },
  {
   "cell_type": "markdown",
   "id": "8b5e709d",
   "metadata": {},
   "source": [
    "#Write a c++ program to find the sum of two numbers\n",
    "```\n",
    "int a,b;\n",
    "a = 10;\n",
    "b = 20;\n",
    "int sum;\n",
    "sum = a+b;\n",
    "count<<sum;\n",
    "```"
   ]
  },
  {
   "cell_type": "markdown",
   "id": "6b01bcf4",
   "metadata": {},
   "source": [
    "Set of instruction to play music\n",
    "\n",
    "![](images/program.gif)"
   ]
  },
  {
   "cell_type": "code",
   "execution_count": 14,
   "id": "25609c49",
   "metadata": {},
   "outputs": [
    {
     "name": "stdout",
     "output_type": "stream",
     "text": [
      "30\n"
     ]
    }
   ],
   "source": [
    "# write a python prgm to add two numbers\n",
    "a = 10\n",
    "b = 20\n",
    "print(a+b)"
   ]
  },
  {
   "cell_type": "markdown",
   "id": "27e4a0ef",
   "metadata": {},
   "source": [
    "## What is Script ?\n",
    "\n",
    "* *Scripts are set of commands executed by certain programs or scripting engines*   \n",
    "\n",
    "\n",
    "* They are usually text documents with set of commands in it.   \n",
    "\n",
    "\n",
    "* Widely used to generate webpages (eg:- php,java script, python script etc)    \n",
    "\n",
    "\n",
    "* **.py extension**   \n",
    "   - python scripts are saved with ``.py`` extension\n",
    "   - In terminal they can be run as a python script by executing the following command:   \n",
    "   - **&#36;**`python file_name.py`  \n",
    "   - then output will be displayed in the terminal itself.   \n",
    "\n",
    "![](images/python_script.jpg) \n",
    "    \n",
    " \n",
    "- **.js extension**\n",
    "\n",
    "   - extension for java script files.\n",
    "   - widely used as the client side scripting language for web developement.   \n",
    "  \n",
    "  \n",
    "- **.php extension**   \n",
    "\n",
    "   - extension for php script files.   \n",
    "   - PHP is an HTML-embedded, server-side scripting language designed for web development.   \n",
    "  \n",
    "\n",
    "\n"
   ]
  },
  {
   "cell_type": "markdown",
   "id": "2a4d45b2",
   "metadata": {},
   "source": [
    "## python in terminal\n",
    "\n",
    "### Text editor Vs Shell    \n",
    "\n",
    "\n",
    "* You can create and execute python programs in three ways:   \n",
    "\n",
    "   1. Using a text editor   \n",
    "   2. Using shell mode   \n",
    "   3. Using a software (Python IDE such as VSCode, PyCharm, Spyder etc)      \n",
    "\n",
    "\n",
    "1. **Text editor**   \n",
    " \n",
    "    1. Open any text editor (gedit,nano,notepad,notepad++,sublime etc)   \n",
    "    2. Create a file and write python code in it.    \n",
    "    3. Save with ``.py`` extension   \n",
    "    4. Now to run this file in terminal(cmd in windows) you need to invoke the python interpreter using the following command:     \n",
    "       **&#36;**``python <filename.py>`` -------------in linux/mac  terminal   \n",
    "       ``c:>python <filename.py>`` -----------in windows cammand prompt  \n",
    "    5. You will get the output in terminal itself   \n",
    "  \n",
    "\n",
    "2. **Python Shell**    \n",
    "   - *You can start Python from Unix, DOS, or any other system that provides you a command-line interpreter or shell window*.   \n",
    "   - **Steps:**   \n",
    "      1. Open terminal/cmd   \n",
    "      2. Navigate to the folder where you installed the python    \n",
    "      3. type **python** and enter   \n",
    "      4. Now the terminal will become a  python shell window and you can execute your codes there, this is like a simple calculator you can perform simple arithmetic operations directly on it.     \n",
    "      5. Use the command **exit()** to go back to terminal mode   \n",
    "\n",
    "  ![](images/python_shell.jpg)   \n",
    "\n",
    "\n",
    "3. **Using Software IDE's**   \n",
    "\n",
    "  * Apart from the above mentioned two methods we can code python using external software IDE such as VSCode, PyCharm etc   \n",
    "\n",
    "  * **VS Code**   \n",
    "\n",
    "    1. Open VS code   \n",
    "    2. Go to file-->New File   \n",
    "    3. In the opening file, click on select a language   \n",
    "    4. Select python as language   \n",
    "    5. Write your program    \n",
    "    6. Save it as python script   \n",
    "    7. Go to Run--Rrun Without Debugging   \n",
    "    8. Output will be displayed on the terminal tab   \n",
    "\n",
    "\n"
   ]
  },
  {
   "cell_type": "markdown",
   "id": "b0bf1406",
   "metadata": {},
   "source": [
    "#### Running Python in Shell - windows"
   ]
  },
  {
   "cell_type": "markdown",
   "id": "d62c542d",
   "metadata": {},
   "source": [
    "![](images/shell.gif)"
   ]
  },
  {
   "cell_type": "markdown",
   "id": "63195fb3",
   "metadata": {},
   "source": [
    "#### VScode Code editor running python"
   ]
  },
  {
   "cell_type": "markdown",
   "id": "e79c7d9f",
   "metadata": {},
   "source": [
    "![](images/vscode.gif)"
   ]
  },
  {
   "cell_type": "markdown",
   "id": "b787331b",
   "metadata": {},
   "source": [
    "#### Pycharm code editor running python"
   ]
  },
  {
   "cell_type": "markdown",
   "id": "d83d66ae",
   "metadata": {},
   "source": [
    "![](images/pycharm.gif)"
   ]
  },
  {
   "cell_type": "markdown",
   "id": "4b94bd64",
   "metadata": {},
   "source": [
    "### Different types of IDE's and Code Editors"
   ]
  },
  {
   "cell_type": "markdown",
   "id": "20aa9d58",
   "metadata": {},
   "source": [
    "![](images/python_ides.png)\n",
    "\n",
    "![](images/ide_code.png)"
   ]
  },
  {
   "cell_type": "markdown",
   "id": "331824e1",
   "metadata": {},
   "source": [
    "## Activities"
   ]
  },
  {
   "cell_type": "markdown",
   "id": "cbf16714",
   "metadata": {},
   "source": [
    "### <font color=Green> Light </font>\n",
    "\n",
    "1. Install Python interpreter and VS Code\n",
    "\n",
    "\n",
    "2. Find the location of your python interpreter using code\n",
    "\n",
    "\n",
    "3. Find the version of your python interpreter in the terminal; also print the version through python code.\n",
    "\n",
    "\n",
    "### <font color=purple> Moderate </font>\n",
    "\n",
    "4. Create a python script file named sample.py, and write a code to print your name; Then run the script in terminal/cmd.   \n",
    "\n",
    "\n",
    "\n",
    "5. Create a python script file named information.py, and include the commands to get the following details.\n",
    "   - Version of python interpreter\n",
    "   - Location of python interpreter\n",
    "   - Current working directory\n",
    "   \n"
   ]
  },
  {
   "cell_type": "markdown",
   "id": "3fad18e6",
   "metadata": {},
   "source": [
    "----"
   ]
  },
  {
   "cell_type": "code",
   "execution_count": 1,
   "id": "a18b282b",
   "metadata": {},
   "outputs": [
    {
     "name": "stdout",
     "output_type": "stream",
     "text": [
      "test\n"
     ]
    }
   ],
   "source": [
    "print(\"test\")"
   ]
  },
  {
   "cell_type": "code",
   "execution_count": null,
   "id": "d3b2a194",
   "metadata": {},
   "outputs": [],
   "source": []
  }
 ],
 "metadata": {
  "celltoolbar": "Slideshow",
  "kernelspec": {
   "display_name": "Python 3",
   "language": "python",
   "name": "python3"
  },
  "language_info": {
   "codemirror_mode": {
    "name": "ipython",
    "version": 3
   },
   "file_extension": ".py",
   "mimetype": "text/x-python",
   "name": "python",
   "nbconvert_exporter": "python",
   "pygments_lexer": "ipython3",
   "version": "3.9.0"
  }
 },
 "nbformat": 4,
 "nbformat_minor": 5
}
