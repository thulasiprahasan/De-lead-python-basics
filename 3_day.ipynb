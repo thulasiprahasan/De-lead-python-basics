{
 "cells": [
  {
   "cell_type": "markdown",
   "metadata": {},
   "source": [
    "### Index\n",
    "\n",
    "1. What are variables\n",
    "2. variable naming\n",
    "3. `type` --> Introducing how to check the type of a value\n",
    "4. Show them how to check the type of differnet data types\n",
    "5. Data Types\n",
    "    * int \n",
    "    * float\n",
    "    * str\n",
    "    * bool\n",
    "    \n",
    "6. Different types of data types\n",
    "* what each data type holds\n",
    "* Keywords --> What are Keywords\n",
    "* Assignment Operator\n",
    "* Variables\n",
    "\t* What are Variables\n",
    "    * How to store a Variable\n",
    "    * Syntax of naming a Varibale\n",
    "    * using variable\n",
    "* Input\n",
    "    * What is Input\n",
    "    * Showing a example\n",
    "    * Asing them to write a program to add two numbers\n",
    "* Making them find the issue in the code\n",
    "    * Asking them what the issue would be\n",
    "    * Checking the same code by entering a name into the input and showing them the result\n",
    "* Showing them the type of the input by adding the type to a variable name and showing the type\n",
    "\n",
    "- Data type of Input\n",
    "    * showing type conversion and printing the result\n",
    "        * str to int\n",
    "        * float to int\n",
    "        * int to float\n",
    "\t* Conversion of data types\n",
    "Tutorial : Asking a number multiply by 2, add by 100 divide by 2.\n",
    "Ask the number (number - 50 will be ans)\n",
    "### ACTIVITY\n",
    "  - Variable naming\n",
    "  - Temp : conversion :: conversion of degree celcius to farenheit\n",
    "  - Making a calculator"
   ]
  },
  {
   "cell_type": "markdown",
   "metadata": {},
   "source": [
    "---"
   ]
  },
  {
   "cell_type": "markdown",
   "metadata": {
    "slideshow": {
     "slide_type": "-"
    }
   },
   "source": [
    "## Variables"
   ]
  },
  {
   "cell_type": "markdown",
   "metadata": {},
   "source": [
    "What are variables\n",
    "- Variables are like containers, we can add values to these containers."
   ]
  },
  {
   "cell_type": "markdown",
   "metadata": {},
   "source": [
    "> SYNTAX\n",
    "```\n",
    "variable_name = value\n",
    "```"
   ]
  },
  {
   "cell_type": "code",
   "execution_count": null,
   "metadata": {},
   "outputs": [],
   "source": [
    "# number values1"
   ]
  },
  {
   "cell_type": "code",
   "execution_count": null,
   "metadata": {},
   "outputs": [],
   "source": [
    "# decimal points"
   ]
  },
  {
   "cell_type": "code",
   "execution_count": null,
   "metadata": {},
   "outputs": [],
   "source": [
    "# single alphabet"
   ]
  },
  {
   "cell_type": "code",
   "execution_count": null,
   "metadata": {},
   "outputs": [],
   "source": [
    "# string"
   ]
  },
  {
   "cell_type": "markdown",
   "metadata": {},
   "source": [
    "## Python syntax rules"
   ]
  },
  {
   "cell_type": "markdown",
   "metadata": {},
   "source": [
    "- Syntax is nothing but grammar rules for the coding\n",
    "   - Spelling\n",
    "   - Structure\n",
    "   - Block of codes\n",
    "   - Different notations has different meaning\n",
    "   - Case sensitiveness\n",
    "   - Reserved words\n"
   ]
  },
  {
   "cell_type": "code",
   "execution_count": null,
   "metadata": {},
   "outputs": [],
   "source": [
    "#syntax violation example1\n",
    "printt(\"Hello World!\")"
   ]
  },
  {
   "cell_type": "code",
   "execution_count": null,
   "metadata": {},
   "outputs": [],
   "source": [
    "#syntax violation example2\n",
    "print(\"Hello World!)\""
   ]
  },
  {
   "cell_type": "code",
   "execution_count": null,
   "metadata": {},
   "outputs": [],
   "source": [
    "print(\"Hello World! \\n Let us learn python\")"
   ]
  },
  {
   "cell_type": "code",
   "execution_count": null,
   "metadata": {},
   "outputs": [],
   "source": [
    "#syntax violation example3\n",
    "Print(\"Hello World!\")"
   ]
  },
  {
   "cell_type": "markdown",
   "metadata": {},
   "source": [
    "#### Indentation"
   ]
  },
  {
   "cell_type": "markdown",
   "metadata": {},
   "source": [
    "- Python has no braces{} to represnets block of codes   \n",
    "\n",
    "- Indentations are used to represent block of codes such as class, function, conditional branches, control blocks etc   \n",
    "\n",
    "- <b><font color =blue>4 Spaces and 1 Tab</b></font> <br>"
   ]
  },
  {
   "cell_type": "code",
   "execution_count": null,
   "metadata": {},
   "outputs": [],
   "source": [
    "#indentation example1 if-else clause"
   ]
  },
  {
   "cell_type": "code",
   "execution_count": null,
   "metadata": {},
   "outputs": [],
   "source": [
    "#indentation example2 function clause"
   ]
  },
  {
   "cell_type": "code",
   "execution_count": null,
   "metadata": {},
   "outputs": [],
   "source": [
    "#indentation error example\n",
    "print(\"Hello World!\")\n",
    "    print(\"Let us learn python\")"
   ]
  },
  {
   "cell_type": "markdown",
   "metadata": {},
   "source": [
    "## Variable/identifiers naming"
   ]
  },
  {
   "cell_type": "markdown",
   "metadata": {},
   "source": [
    "- *A python **identifier** is a name used to identify a variable, function, class, module, or other object.*"
   ]
  },
  {
   "cell_type": "markdown",
   "metadata": {},
   "source": [
    "### Rules"
   ]
  },
  {
   "cell_type": "markdown",
   "metadata": {},
   "source": [
    "- Must start with a letter or underscore(_)\n",
    "- Cannot start with a number\n",
    "- Can only contain alphanumeric characters and underscore {a-z A-Z 0-9 _}\n",
    "- They are case sensitive"
   ]
  },
  {
   "cell_type": "code",
   "execution_count": null,
   "metadata": {},
   "outputs": [],
   "source": [
    "# variable names example1"
   ]
  },
  {
   "cell_type": "code",
   "execution_count": null,
   "metadata": {},
   "outputs": [],
   "source": [
    "# variable names example2"
   ]
  },
  {
   "cell_type": "code",
   "execution_count": null,
   "metadata": {},
   "outputs": [],
   "source": [
    "# variable names example3"
   ]
  },
  {
   "cell_type": "code",
   "execution_count": null,
   "metadata": {},
   "outputs": [],
   "source": [
    "# variable names example4\n",
    "#Let them predict the output"
   ]
  },
  {
   "cell_type": "code",
   "execution_count": null,
   "metadata": {},
   "outputs": [],
   "source": []
  },
  {
   "cell_type": "markdown",
   "metadata": {},
   "source": [
    "<b><font color=red>Question1</font></b><br><br>\n",
    "&emsp; &emsp; Declare a variable named `class` and print its value to the console"
   ]
  },
  {
   "cell_type": "code",
   "execution_count": null,
   "metadata": {},
   "outputs": [],
   "source": []
  },
  {
   "cell_type": "markdown",
   "metadata": {},
   "source": [
    "## Keywords"
   ]
  },
  {
   "cell_type": "markdown",
   "metadata": {},
   "source": [
    "- Keywords are **reserved words**\n",
    "- Cannot use them as identifier names\n",
    "- All the keywords contains lowercase letters only"
   ]
  },
  {
   "cell_type": "markdown",
   "metadata": {},
   "source": [
    "\n",
    "<b>\n",
    "   <table>\n",
    "   <tr><td>and</td> <td> assert</td> <td>break</td> <td> class </td></tr>      \n",
    "    \n",
    "  <tr><td>continue</td>  <td>def</td> <td>del</td>    <td>elif </td></tr>      \n",
    "    \n",
    "  <tr><td>else</td> <td>except</td>  <td>exec</td>    <td>finally </td></tr>     \n",
    "    \n",
    "  <tr><td>for</td>  <td>from</td>    <td>global</td>  <td>if </td></tr>     \n",
    "    \n",
    "  <tr><td>import</td>  <td>in</td>    <td>is</td>     <td>lambda </td></tr>      \n",
    "    \n",
    "  <tr><td>not</td>   <td>nor</td>     <td>pass</td>   <td>print </td></tr>     \n",
    "    \n",
    "  <tr><td>raise</td>  <td>return</td>  <td>try</td>   <td>while </td></tr>     \n",
    "    \n",
    "  <tr><td>with</td>   <td>yield</td> </tr>  \n",
    "  </table>\n",
    "</b>\n"
   ]
  },
  {
   "cell_type": "code",
   "execution_count": null,
   "metadata": {},
   "outputs": [],
   "source": [
    "#use keywords as identifier"
   ]
  },
  {
   "cell_type": "code",
   "execution_count": null,
   "metadata": {},
   "outputs": [],
   "source": [
    "#use keywords as identifier"
   ]
  },
  {
   "cell_type": "code",
   "execution_count": null,
   "metadata": {},
   "outputs": [],
   "source": []
  },
  {
   "cell_type": "markdown",
   "metadata": {},
   "source": [
    "## Assigning Values to Variable and Printing them"
   ]
  },
  {
   "cell_type": "markdown",
   "metadata": {},
   "source": [
    "- Using Assignment operator(=)\n",
    "- The value present in the RHS will be assigned to the variable name present in the LHS"
   ]
  },
  {
   "cell_type": "code",
   "execution_count": null,
   "metadata": {},
   "outputs": [],
   "source": [
    "#variable assignment for numbers"
   ]
  },
  {
   "cell_type": "code",
   "execution_count": null,
   "metadata": {},
   "outputs": [],
   "source": [
    "#variable assignment for strings"
   ]
  },
  {
   "cell_type": "code",
   "execution_count": 1,
   "metadata": {},
   "outputs": [
    {
     "name": "stdout",
     "output_type": "stream",
     "text": [
      "None\n"
     ]
    }
   ],
   "source": [
    "#variable assignment for empty\n",
    "var = None\n",
    "print(var)"
   ]
  },
  {
   "cell_type": "code",
   "execution_count": null,
   "metadata": {},
   "outputs": [],
   "source": [
    "#printing variable value along with string"
   ]
  },
  {
   "cell_type": "code",
   "execution_count": null,
   "metadata": {},
   "outputs": [],
   "source": [
    "#printing variable value along with string"
   ]
  },
  {
   "cell_type": "markdown",
   "metadata": {},
   "source": [
    "#### Multiple assignment"
   ]
  },
  {
   "cell_type": "markdown",
   "metadata": {},
   "source": [
    "- Can be assign same value for different variables in same line\n",
    "- Also we can assign different values for different variables in single line"
   ]
  },
  {
   "cell_type": "code",
   "execution_count": null,
   "metadata": {},
   "outputs": [],
   "source": [
    "#Show assigning in multipline first"
   ]
  },
  {
   "cell_type": "code",
   "execution_count": null,
   "metadata": {},
   "outputs": [],
   "source": [
    "#Show example for case1\n",
    "a=b=c = 20\n",
    "print(a)\n",
    "print(b)\n",
    "print(c)"
   ]
  },
  {
   "cell_type": "code",
   "execution_count": null,
   "metadata": {},
   "outputs": [],
   "source": [
    "#show example for case2\n",
    "a,b,c = 10,5,50\n",
    "print(a)\n",
    "print(b)\n",
    "print(c)"
   ]
  },
  {
   "cell_type": "code",
   "execution_count": null,
   "metadata": {},
   "outputs": [],
   "source": [
    "#show example for case2 with diffferent datatypes\n",
    "#Let them answer"
   ]
  },
  {
   "cell_type": "markdown",
   "metadata": {},
   "source": [
    "## type() function"
   ]
  },
  {
   "cell_type": "markdown",
   "metadata": {},
   "source": [
    "- Used to get the data type of the values\n",
    "- **syntax:** `type(value)`"
   ]
  },
  {
   "cell_type": "code",
   "execution_count": null,
   "metadata": {},
   "outputs": [],
   "source": [
    "#type() example1"
   ]
  },
  {
   "cell_type": "code",
   "execution_count": null,
   "metadata": {},
   "outputs": [],
   "source": [
    "#type() example2"
   ]
  },
  {
   "cell_type": "code",
   "execution_count": null,
   "metadata": {},
   "outputs": [],
   "source": [
    "#type() example3"
   ]
  },
  {
   "cell_type": "markdown",
   "metadata": {},
   "source": [
    "<b><font color=red>Question2</font></b><br><br>\n",
    "Predict the output of the following codes:<br>\n",
    "`\n",
    "    print(type(\"1000\"))\n",
    "`"
   ]
  },
  {
   "cell_type": "code",
   "execution_count": null,
   "metadata": {},
   "outputs": [],
   "source": [
    "#type() example4 ----- predict the output\n",
    "print(type())"
   ]
  },
  {
   "cell_type": "code",
   "execution_count": null,
   "metadata": {},
   "outputs": [],
   "source": [
    "#type() example5 ----- predict the output"
   ]
  },
  {
   "cell_type": "code",
   "execution_count": null,
   "metadata": {},
   "outputs": [],
   "source": [
    "#type() example6 ----- predict the output"
   ]
  },
  {
   "cell_type": "code",
   "execution_count": null,
   "metadata": {},
   "outputs": [],
   "source": [
    "#type() example7 ----- predict the output"
   ]
  },
  {
   "cell_type": "code",
   "execution_count": null,
   "metadata": {},
   "outputs": [],
   "source": [
    "#type() example7 ----- for complex"
   ]
  },
  {
   "cell_type": "markdown",
   "metadata": {},
   "source": [
    "---"
   ]
  },
  {
   "cell_type": "code",
   "execution_count": null,
   "metadata": {
    "slideshow": {
     "slide_type": "slide"
    }
   },
   "outputs": [],
   "source": [
    "# Printing multiple values\n",
    "print(\"value\",31,34.5,\"yes\")\n",
    "print(\"Arjun\",\":\",12)"
   ]
  },
  {
   "cell_type": "markdown",
   "metadata": {
    "slideshow": {
     "slide_type": "slide"
    }
   },
   "source": [
    "<b><font color =red>Question 3</b></font> <br>\n",
    "Check if the following names can be used as a variable or not?<br>\n",
    "\n",
    "```\n",
    "1. print = 15 \n",
    "2. a = \"ak\"\n",
    "3. b = 33 \n",
    "4. c = 2.5\n",
    "5. d = [1,2,3,4]\n",
    "6. list*name = [1,2,3,4]\n",
    "7. 2list*name = [5,6,8]\n",
    "8. list_names = [5,6,8]\n",
    "9. 3_list_name = [1,5,10]\n",
    "10.13_name = \"Arjun\" \n",
    "```"
   ]
  },
  {
   "cell_type": "code",
   "execution_count": null,
   "metadata": {},
   "outputs": [],
   "source": [
    "#show the results here"
   ]
  },
  {
   "cell_type": "markdown",
   "metadata": {
    "slideshow": {
     "slide_type": "slide"
    }
   },
   "source": [
    "<b><font color =red>Question 4</b></font> <br>\n",
    "Check the following names can be used as a variable or not?<br>\n",
    "\n",
    "```\n",
    "1. print = 15\n",
    "2. print_number = 15 \n",
    "3. print 13 = 15\n",
    "4. print13 = 15\n",
    "5. print_1 = 30\n",
    "6. print1 = 20\n",
    "7. print2 = 50\n",
    "8. PrintNum = \"Printing Numbers\"\n",
    "9. PRINT = \"Yes\"\n",
    "```"
   ]
  },
  {
   "cell_type": "code",
   "execution_count": null,
   "metadata": {},
   "outputs": [],
   "source": [
    "#show the results here"
   ]
  },
  {
   "cell_type": "markdown",
   "metadata": {
    "slideshow": {
     "slide_type": "slide"
    }
   },
   "source": [
    "<b><font color =red>Question 5</b></font> <br>\n",
    "What will be Output of the following code?<br>\n",
    "\n",
    "```\n",
    "number = 10\n",
    "print(number,type(number))\n",
    "print(\"number\",type(\"number\"))\n",
    "```"
   ]
  },
  {
   "cell_type": "code",
   "execution_count": null,
   "metadata": {
    "slideshow": {
     "slide_type": "slide"
    }
   },
   "outputs": [],
   "source": [
    "number = 10\n",
    "print(number,type(number)) # -- type(10) :: Int -- integer\n",
    "print(\"number\",type(\"number\")) # -- \"number\" -- str "
   ]
  },
  {
   "cell_type": "markdown",
   "metadata": {
    "slideshow": {
     "slide_type": "slide"
    }
   },
   "source": [
    "<i><font color =grey>Understanding datatypes a bit more deeper</i></font> <br>\n",
    "\n",
    "<b><font color =red>Question 6</b></font> <br>\n",
    "What will be Output of the following code?<br>\n",
    "Also specify the type of the values\n",
    "```\n",
    "print(10.3)\n",
    "print(\"10\")\n",
    "print(\"yes\")\n",
    "print(22)\n",
    "```"
   ]
  },
  {
   "cell_type": "code",
   "execution_count": null,
   "metadata": {
    "slideshow": {
     "slide_type": "slide"
    }
   },
   "outputs": [],
   "source": [
    "#show the results here!"
   ]
  },
  {
   "cell_type": "markdown",
   "metadata": {
    "slideshow": {
     "slide_type": "slide"
    }
   },
   "source": [
    "<i><font color =grey>Understanding datatypes of Input</i></font> <br>\n",
    "\n",
    "<b><font color =red>Question 5</b></font> <br>\n",
    "Write a program to print the sum of two numbers?<br>\n",
    "number 1 = 15<br>\n",
    "number 2 = 30<br>\n",
    "\n",
    "`OUTPUT`\n",
    "```\n",
    "Sum = 45\n",
    "```"
   ]
  },
  {
   "cell_type": "code",
   "execution_count": null,
   "metadata": {
    "slideshow": {
     "slide_type": "slide"
    }
   },
   "outputs": [],
   "source": [
    "#sum of two numbers"
   ]
  },
  {
   "cell_type": "code",
   "execution_count": null,
   "metadata": {
    "slideshow": {
     "slide_type": "slide"
    }
   },
   "outputs": [],
   "source": [
    "# sum of two numbers\n",
    "# Making the Output more formatted\n",
    "# understanding how to print 2 or more variables in one line\n"
   ]
  },
  {
   "cell_type": "markdown",
   "metadata": {
    "slideshow": {
     "slide_type": "skip"
    }
   },
   "source": [
    "------"
   ]
  },
  {
   "cell_type": "markdown",
   "metadata": {
    "slideshow": {
     "slide_type": "skip"
    }
   },
   "source": [
    "# EXERCISE QUESTIONS"
   ]
  },
  {
   "cell_type": "markdown",
   "metadata": {
    "slideshow": {
     "slide_type": "slide"
    }
   },
   "source": [
    "### TRY FROM HOME\n",
    " 1.  Perform the **subtraction** of two numbers, and print the result   \n",
    " \n",
    " \n",
    " 2.  Perform the **devision** of two numbers, and print the result      \n",
    " \n",
    " \n",
    " 3.  Perform the **multiplication** of two numbers, and print the result     \n",
    " \n",
    " \n",
    " 4.  Perform all the 4 arithemetic operations on two variables and print the results in a single line.   \n",
    " \n",
    " \n",
    " 5.  Let `X`=33 and `Y`=5, perform division and save result in to a variable named `quotient`,     \n",
    "     Then print value and type of `quotient`."
   ]
  },
  {
   "cell_type": "code",
   "execution_count": null,
   "metadata": {},
   "outputs": [],
   "source": []
  }
 ],
 "metadata": {
  "kernelspec": {
   "display_name": "Python 3",
   "language": "python",
   "name": "python3"
  },
  "language_info": {
   "codemirror_mode": {
    "name": "ipython",
    "version": 3
   },
   "file_extension": ".py",
   "mimetype": "text/x-python",
   "name": "python",
   "nbconvert_exporter": "python",
   "pygments_lexer": "ipython3",
   "version": "3.8.3"
  }
 },
 "nbformat": 4,
 "nbformat_minor": 4
}
